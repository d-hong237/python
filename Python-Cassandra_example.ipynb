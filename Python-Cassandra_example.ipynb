{
 "cells": [
  {
   "cell_type": "code",
   "execution_count": null,
   "metadata": {
    "collapsed": true
   },
   "outputs": [],
   "source": [
    "#Example on how to extract from Teradata and load into a table in Cassandra"
   ]
  },
  {
   "cell_type": "code",
   "execution_count": 1,
   "metadata": {
    "collapsed": true
   },
   "outputs": [],
   "source": [
    "from sqlalchemy import create_engine\n",
    "import pandas as pd\n",
    "from cassandra.cluster import Cluster"
   ]
  },
  {
   "cell_type": "code",
   "execution_count": 2,
   "metadata": {
    "collapsed": true
   },
   "outputs": [],
   "source": [
    "username = \"your lanid\"\n",
    "password = \"your password\"\n",
    "hostname = \"hostname\""
   ]
  },
  {
   "cell_type": "code",
   "execution_count": 3,
   "metadata": {
    "collapsed": false
   },
   "outputs": [],
   "source": [
    "#Usually the first time you try to connect it will fail. Try running it again and you should be able to connect\n",
    "db_engine = create_engine(\"teradata://{username}:{password}@{hostname}/;authentication=LDAP;CHARSET=UTF8;TMODE=ANSI\"\\\n",
    "                         .format(username=username, password=password, hostname=hostname))\n",
    "\n",
    "\n",
    "#While loop statement. Try to connect to Teradata until connection is successful.\n",
    "db_connection = None\n",
    "\n",
    "while db_connection is None:\n",
    "    try:\n",
    "        db_connection = db_engine.connect()\n",
    "    except:\n",
    "        pass"
   ]
  },
  {
   "cell_type": "code",
   "execution_count": 4,
   "metadata": {
    "collapsed": true
   },
   "outputs": [],
   "source": [
    "#Extract data to a list data structure example\n",
    "raw_sql = \"select top 10 * from dlbis_mytime.vol_drv_act\"\n",
    "raw_data = list(db_connection.execute(raw_sql))\n"
   ]
  },
  {
   "cell_type": "code",
   "execution_count": 5,
   "metadata": {
    "collapsed": false
   },
   "outputs": [
    {
     "data": {
      "text/plain": [
       "[('T0607', datetime.date(2012, 10, 21), 'UNITS DEPT', 'DELI', Decimal('135')),\n",
       " ('T1784', datetime.date(2014, 10, 5), 'UNITS DEPT', 'SOFTLINES', Decimal('16038')),\n",
       " ('T1804', datetime.date(2015, 10, 25), 'CARTONS', 'GMLAWN', Decimal('6')),\n",
       " ('T2476', datetime.date(2016, 7, 24), 'TRANSACTIONS', 'SDGC', Decimal('90')),\n",
       " ('T1972', datetime.date(2016, 10, 16), 'BACKSTOCK TRIPS', 'DAYBULK', Decimal('158')),\n",
       " ('T1220', datetime.date(2015, 2, 22), 'UNITS DEPT', 'HARDHARD', Decimal('37974')),\n",
       " ('T1100', datetime.date(2016, 1, 17), 'TRANSACTIONS', 'SDCRED', Decimal('102')),\n",
       " ('T0669', datetime.date(2016, 3, 27), 'UNITS DEPT', 'DELI', Decimal('103')),\n",
       " ('T0227', datetime.date(2012, 11, 18), 'PULL ITEMS WORKED', 'OTHER', Decimal('68')),\n",
       " ('T2011', datetime.date(2017, 1, 8), 'TRANSACTIONS', 'REGCRED', Decimal('2219'))]"
      ]
     },
     "execution_count": 5,
     "metadata": {},
     "output_type": "execute_result"
    }
   ],
   "source": [
    "raw_data"
   ]
  },
  {
   "cell_type": "code",
   "execution_count": 6,
   "metadata": {
    "collapsed": false
   },
   "outputs": [
    {
     "data": {
      "text/html": [
       "<div>\n",
       "<table border=\"1\" class=\"dataframe\">\n",
       "  <thead>\n",
       "    <tr style=\"text-align: right;\">\n",
       "      <th></th>\n",
       "      <th>location</th>\n",
       "      <th>cal_wk_beg_d</th>\n",
       "      <th>vd</th>\n",
       "      <th>node_td</th>\n",
       "      <th>actual_units</th>\n",
       "    </tr>\n",
       "  </thead>\n",
       "  <tbody>\n",
       "    <tr>\n",
       "      <th>0</th>\n",
       "      <td>T0607</td>\n",
       "      <td>2012-10-21</td>\n",
       "      <td>UNITS DEPT</td>\n",
       "      <td>DELI</td>\n",
       "      <td>135.0</td>\n",
       "    </tr>\n",
       "    <tr>\n",
       "      <th>1</th>\n",
       "      <td>T1784</td>\n",
       "      <td>2014-10-05</td>\n",
       "      <td>UNITS DEPT</td>\n",
       "      <td>SOFTLINES</td>\n",
       "      <td>16038.0</td>\n",
       "    </tr>\n",
       "    <tr>\n",
       "      <th>2</th>\n",
       "      <td>T1804</td>\n",
       "      <td>2015-10-25</td>\n",
       "      <td>CARTONS</td>\n",
       "      <td>GMLAWN</td>\n",
       "      <td>6.0</td>\n",
       "    </tr>\n",
       "    <tr>\n",
       "      <th>3</th>\n",
       "      <td>T2476</td>\n",
       "      <td>2016-07-24</td>\n",
       "      <td>TRANSACTIONS</td>\n",
       "      <td>SDGC</td>\n",
       "      <td>90.0</td>\n",
       "    </tr>\n",
       "    <tr>\n",
       "      <th>4</th>\n",
       "      <td>T1972</td>\n",
       "      <td>2016-10-16</td>\n",
       "      <td>BACKSTOCK TRIPS</td>\n",
       "      <td>DAYBULK</td>\n",
       "      <td>158.0</td>\n",
       "    </tr>\n",
       "    <tr>\n",
       "      <th>5</th>\n",
       "      <td>T1220</td>\n",
       "      <td>2015-02-22</td>\n",
       "      <td>UNITS DEPT</td>\n",
       "      <td>HARDHARD</td>\n",
       "      <td>37974.0</td>\n",
       "    </tr>\n",
       "    <tr>\n",
       "      <th>6</th>\n",
       "      <td>T1100</td>\n",
       "      <td>2016-01-17</td>\n",
       "      <td>TRANSACTIONS</td>\n",
       "      <td>SDCRED</td>\n",
       "      <td>102.0</td>\n",
       "    </tr>\n",
       "    <tr>\n",
       "      <th>7</th>\n",
       "      <td>T0669</td>\n",
       "      <td>2016-03-27</td>\n",
       "      <td>UNITS DEPT</td>\n",
       "      <td>DELI</td>\n",
       "      <td>103.0</td>\n",
       "    </tr>\n",
       "    <tr>\n",
       "      <th>8</th>\n",
       "      <td>T0227</td>\n",
       "      <td>2012-11-18</td>\n",
       "      <td>PULL ITEMS WORKED</td>\n",
       "      <td>OTHER</td>\n",
       "      <td>68.0</td>\n",
       "    </tr>\n",
       "    <tr>\n",
       "      <th>9</th>\n",
       "      <td>T2011</td>\n",
       "      <td>2017-01-08</td>\n",
       "      <td>TRANSACTIONS</td>\n",
       "      <td>REGCRED</td>\n",
       "      <td>2219.0</td>\n",
       "    </tr>\n",
       "  </tbody>\n",
       "</table>\n",
       "</div>"
      ],
      "text/plain": [
       "  location cal_wk_beg_d                 vd    node_td  actual_units\n",
       "0    T0607   2012-10-21         UNITS DEPT       DELI         135.0\n",
       "1    T1784   2014-10-05         UNITS DEPT  SOFTLINES       16038.0\n",
       "2    T1804   2015-10-25            CARTONS     GMLAWN           6.0\n",
       "3    T2476   2016-07-24       TRANSACTIONS       SDGC          90.0\n",
       "4    T1972   2016-10-16    BACKSTOCK TRIPS    DAYBULK         158.0\n",
       "5    T1220   2015-02-22         UNITS DEPT   HARDHARD       37974.0\n",
       "6    T1100   2016-01-17       TRANSACTIONS     SDCRED         102.0\n",
       "7    T0669   2016-03-27         UNITS DEPT       DELI         103.0\n",
       "8    T0227   2012-11-18  PULL ITEMS WORKED      OTHER          68.0\n",
       "9    T2011   2017-01-08       TRANSACTIONS    REGCRED        2219.0"
      ]
     },
     "execution_count": 6,
     "metadata": {},
     "output_type": "execute_result"
    }
   ],
   "source": [
    "#Extract data to a pandas dataframe example\n",
    "pandas_sql = \"select top 10 * from dlbis_mytime.vol_drv_Act\"\n",
    "pandas_df = pd.read_sql_query(pandas_sql, db_connection)\n",
    "\n",
    "pandas_df"
   ]
  },
  {
   "cell_type": "code",
   "execution_count": 7,
   "metadata": {
    "collapsed": true
   },
   "outputs": [],
   "source": [
    "#Connect to a Cassandra cluster\n",
    "#12.34.56.78 = Bentobox node\n",
    "cluster = Cluster(\n",
    "    contact_points=['12.34.56.78'], port=9042)\n",
    "#Connect to grocery keyspace\n",
    "session = cluster.connect('mykeyspace')"
   ]
  },
  {
   "cell_type": "code",
   "execution_count": 8,
   "metadata": {
    "collapsed": true
   },
   "outputs": [],
   "source": [
    "def load_rows():\n",
    "    'Create list of batch numbers from the index column'\n",
    "    batch_num = pandas_df.index\n",
    "    batch_list = batch_num.tolist()\n",
    "    'Set end parameter to the max value of the batch list'\n",
    "    end = max(batch_list)\n",
    "    n = 0\n",
    "\n",
    "    while n <= end:\n",
    "        getRow = pandas_df[pandas_df.index == n]\n",
    "        'Convert columns to string so we can get rid of the index column'\n",
    "        data = getRow['location'].to_string(index=False, header=False)\n",
    "        data2 = getRow['cal_wk_beg_d'].to_string(index=False, header=False)\n",
    "        data3 = getRow['vd'].to_string(index=False, header=False)\n",
    "        data4 = getRow['node_td'].to_string(index=False, header=False)\n",
    "        data5 = getRow['actual_units'].to_string(index=False, header=False)\n",
    "        \n",
    "        'Convert strings into int and float'\n",
    "        actual_units = float(data5)\n",
    "        \n",
    "        'Load row into Cassandra table'\n",
    "        session.execute(\"\"\"INSERT INTO vol_drv_act (cal_wk_beg_d, location, vd, node_td, actual_units) \n",
    "        values (%s, %s, %s, %s, %s)\"\"\", \n",
    "                        (data2,data,data3,data4,actual_units))\n",
    "        print('Row',n,'loaded into Cassandra')\n",
    "        n = n + 1\n"
   ]
  },
  {
   "cell_type": "code",
   "execution_count": 47,
   "metadata": {
    "collapsed": false
   },
   "outputs": [
    {
     "name": "stdout",
     "output_type": "stream",
     "text": [
      "Row 0 loaded into Cassandra\n",
      "Row 1 loaded into Cassandra\n",
      "Row 2 loaded into Cassandra\n",
      "Row 3 loaded into Cassandra\n",
      "Row 4 loaded into Cassandra\n",
      "Row 5 loaded into Cassandra\n",
      "Row 6 loaded into Cassandra\n",
      "Row 7 loaded into Cassandra\n",
      "Row 8 loaded into Cassandra\n",
      "Row 9 loaded into Cassandra\n"
     ]
    }
   ],
   "source": [
    "load_rows()"
   ]
  },
  {
   "cell_type": "code",
   "execution_count": 48,
   "metadata": {
    "collapsed": false
   },
   "outputs": [
    {
     "name": "stdout",
     "output_type": "stream",
     "text": [
      "Row(cal_wk_beg_d=datetime.datetime(2016, 1, 10, 0, 0), location='T1858', vd='CARTONS', node_td='REPSHOE', actual_units=107.21175384521484)\n",
      "Row(cal_wk_beg_d=datetime.datetime(2014, 8, 10, 0, 0), location='T1091', vd='CARTONS', node_td='GMSB', actual_units=724.888916015625)\n",
      "Row(cal_wk_beg_d=datetime.datetime(2012, 4, 8, 0, 0), location='T0055', vd='TRANSACTIONS', node_td='REGCOU', actual_units=1592.0)\n",
      "Row(cal_wk_beg_d=datetime.datetime(2016, 3, 20, 0, 0), location='T1378', vd='BACKSTOCK TRIPS', node_td='DAYUPPER', actual_units=309.0)\n",
      "Row(cal_wk_beg_d=datetime.datetime(2013, 2, 3, 0, 0), location='T1960', vd='PULL TRIPS', node_td='DAYUPPER', actual_units=1216.0)\n",
      "Row(cal_wk_beg_d=datetime.datetime(2016, 11, 13, 0, 0), location='T1878', vd='PRODUCTION UNITS', node_td='SBBLENDER', actual_units=355.0)\n",
      "Row(cal_wk_beg_d=datetime.datetime(2012, 4, 29, 0, 0), location='T1360', vd='PULL ITEMS WORKED', node_td='MEAT', actual_units=632.0)\n",
      "Row(cal_wk_beg_d=datetime.datetime(2014, 4, 13, 0, 0), location='T1164', vd='PULL TRIPS', node_td='DAYOPEN', actual_units=2390.0)\n",
      "Row(cal_wk_beg_d=datetime.datetime(2015, 3, 8, 0, 0), location='T1104', vd='CARTONS', node_td='REPMEN', actual_units=60.31252670288086)\n",
      "Row(cal_wk_beg_d=datetime.datetime(2015, 5, 10, 0, 0), location='T0700', vd='TRANSACTIONS', node_td='REGCASH', actual_units=1940.0)\n"
     ]
    }
   ],
   "source": [
    "#Check results in Cassandra\n",
    "getresults = session.execute(\"select * from vol_drv_act\")\n",
    "\n",
    "for x in getresults:\n",
    "    print(x)"
   ]
  },
  {
   "cell_type": "code",
   "execution_count": 49,
   "metadata": {
    "collapsed": true
   },
   "outputs": [],
   "source": [
    "#Close out teradata connection when finish\n",
    "db_connection.close()"
   ]
  }
 ],
 "metadata": {
  "anaconda-cloud": {},
  "kernelspec": {
   "display_name": "Python [default]",
   "language": "python",
   "name": "python3"
  },
  "language_info": {
   "codemirror_mode": {
    "name": "ipython",
    "version": 3
   },
   "file_extension": ".py",
   "mimetype": "text/x-python",
   "name": "python",
   "nbconvert_exporter": "python",
   "pygments_lexer": "ipython3",
   "version": "3.5.2"
  }
 },
 "nbformat": 4,
 "nbformat_minor": 0
}
