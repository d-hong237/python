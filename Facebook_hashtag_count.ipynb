{
 "cells": [
  {
   "cell_type": "code",
   "execution_count": 1,
   "metadata": {
    "collapsed": false
   },
   "outputs": [],
   "source": [
    "import json\n",
    "import pandas as pd\n",
    "import time\n",
    "import datetime\n",
    "import os\n",
    "import sys\n",
    "from pprint import pprint"
   ]
  },
  {
   "cell_type": "code",
   "execution_count": 2,
   "metadata": {
    "collapsed": false
   },
   "outputs": [],
   "source": [
    "with open('/Users/dhong/Desktop/fb_posts/fb_sample_1.json') as data_file:    \n",
    "    dataset = json.load(data_file)"
   ]
  },
  {
   "cell_type": "code",
   "execution_count": 3,
   "metadata": {
    "collapsed": false
   },
   "outputs": [],
   "source": [
    "def iteratethis():\n",
    "    \n",
    "    n = 0\n",
    "    getmax = len(dataset['data'])\n",
    "    \n",
    "    getmessage = []\n",
    "    \n",
    "    while n < getmax:\n",
    "        if 'message' in dataset['data'][n]:\n",
    "            getmessage.append(dataset['data'][n]['message'])\n",
    "                \n",
    "        n = n + 1"
   ]
  },
  {
   "cell_type": "code",
   "execution_count": 4,
   "metadata": {
    "collapsed": false
   },
   "outputs": [],
   "source": [
    "iteratethis()"
   ]
  },
  {
   "cell_type": "code",
   "execution_count": 5,
   "metadata": {
    "collapsed": false
   },
   "outputs": [],
   "source": [
    "n = 0\n",
    "getmax = len(dataset['data'])\n",
    "    \n",
    "getmessage = ''\n",
    "    \n",
    "while n < getmax:\n",
    "    if 'message' in dataset['data'][n]:\n",
    "        getmessage += str(dataset['data'][n]['message'] + ' ')\n",
    "                \n",
    "    n = n + 1\n",
    "    "
   ]
  },
  {
   "cell_type": "code",
   "execution_count": 6,
   "metadata": {
    "collapsed": false
   },
   "outputs": [
    {
     "data": {
      "text/plain": [
       "'#olderadultlife #CubsFamily #Cubs! #Cubs! #Cubs #stressedcubsfan #Cubs!!!!!!!!!!!!!!!!!!!!!!!!!!!!!!!!!!!!!!!!!!!!!!!!!!!! #Cubs!!!! #Cubs #Cubs #pitchervspitcher #gocubs #Cubs #getthebacon #SKOLVIKINGS #panangcurry #SKOLVIKINGS #SKOLVIKINGS #dontbesohumblecuzyourenotthatgreat #gophers #skiumah #ballislife #whatareyoudoinglakers #facepalm #startingfromthebottom #workhardeatharder #mostrandompostever #the5thwheel #wheresmyblanket #coldandalone #postdinnerjog #euro2016 #iceland? #familyselfie #thatallnighterlife #ballislife #bbqporkonrice #ODSC #thirstythursday #ballislife #gospurs #thisislife #BuzzCity #BuzzCity! #Orioles #blackmamba #ballislife #casualfridays #ballislife #amateurpost #eevee #latepost #notourdog #whenballislife #marchmadness '"
      ]
     },
     "execution_count": 6,
     "metadata": {},
     "output_type": "execute_result"
    }
   ],
   "source": [
    "gethashtag = ''\n",
    "\n",
    "for x in getmessage.split():\n",
    "    if x.startswith('#'):\n",
    "        gethashtag += str(x +' ')\n",
    "        \n",
    "gethashtag"
   ]
  },
  {
   "cell_type": "code",
   "execution_count": 7,
   "metadata": {
    "collapsed": false
   },
   "outputs": [
    {
     "data": {
      "text/plain": [
       "['#olderadultlife',\n",
       " '#CubsFamily',\n",
       " '#Cubs!',\n",
       " '#Cubs!',\n",
       " '#Cubs',\n",
       " '#stressedcubsfan',\n",
       " '#Cubs!!!!!!!!!!!!!!!!!!!!!!!!!!!!!!!!!!!!!!!!!!!!!!!!!!!!',\n",
       " '#Cubs!!!!',\n",
       " '#Cubs',\n",
       " '#Cubs',\n",
       " '#pitchervspitcher',\n",
       " '#gocubs',\n",
       " '#Cubs',\n",
       " '#getthebacon',\n",
       " '#SKOLVIKINGS',\n",
       " '#panangcurry',\n",
       " '#SKOLVIKINGS',\n",
       " '#SKOLVIKINGS',\n",
       " '#dontbesohumblecuzyourenotthatgreat',\n",
       " '#gophers',\n",
       " '#skiumah',\n",
       " '#ballislife',\n",
       " '#whatareyoudoinglakers',\n",
       " '#facepalm',\n",
       " '#startingfromthebottom',\n",
       " '#workhardeatharder',\n",
       " '#mostrandompostever',\n",
       " '#the5thwheel',\n",
       " '#wheresmyblanket',\n",
       " '#coldandalone',\n",
       " '#postdinnerjog',\n",
       " '#euro2016',\n",
       " '#iceland?',\n",
       " '#familyselfie',\n",
       " '#thatallnighterlife',\n",
       " '#ballislife',\n",
       " '#bbqporkonrice',\n",
       " '#ODSC',\n",
       " '#thirstythursday',\n",
       " '#ballislife',\n",
       " '#gospurs',\n",
       " '#thisislife',\n",
       " '#BuzzCity',\n",
       " '#BuzzCity!',\n",
       " '#Orioles',\n",
       " '#blackmamba',\n",
       " '#ballislife',\n",
       " '#casualfridays',\n",
       " '#ballislife',\n",
       " '#amateurpost',\n",
       " '#eevee',\n",
       " '#latepost',\n",
       " '#notourdog',\n",
       " '#whenballislife',\n",
       " '#marchmadness']"
      ]
     },
     "execution_count": 7,
     "metadata": {},
     "output_type": "execute_result"
    }
   ],
   "source": [
    "gethashtag.split()"
   ]
  },
  {
   "cell_type": "code",
   "execution_count": 8,
   "metadata": {
    "collapsed": false
   },
   "outputs": [],
   "source": [
    "def word_count(gethashtag):\n",
    "    my_string = gethashtag.split()\n",
    "    my_dict = {}\n",
    "    for item in my_string:\n",
    "        if item in my_dict:\n",
    "            my_dict[item] += 1\n",
    "        else:\n",
    "            my_dict[item] = 1\n",
    "    print(sorted(my_dict.items(), key=lambda x: x[1], reverse=True))\n",
    "    "
   ]
  },
  {
   "cell_type": "code",
   "execution_count": 9,
   "metadata": {
    "collapsed": false
   },
   "outputs": [
    {
     "name": "stdout",
     "output_type": "stream",
     "text": [
      "[('#ballislife', 5), ('#Cubs', 4), ('#SKOLVIKINGS', 3), ('#Cubs!', 2), ('#olderadultlife', 1), ('#wheresmyblanket', 1), ('#thirstythursday', 1), ('#blackmamba', 1), ('#skiumah', 1), ('#postdinnerjog', 1), ('#thatallnighterlife', 1), ('#casualfridays', 1), ('#eevee', 1), ('#BuzzCity', 1), ('#gocubs', 1), ('#mostrandompostever', 1), ('#whenballislife', 1), ('#coldandalone', 1), ('#CubsFamily', 1), ('#gophers', 1), ('#facepalm', 1), ('#startingfromthebottom', 1), ('#BuzzCity!', 1), ('#marchmadness', 1), ('#panangcurry', 1), ('#latepost', 1), ('#ODSC', 1), ('#the5thwheel', 1), ('#pitchervspitcher', 1), ('#stressedcubsfan', 1), ('#amateurpost', 1), ('#Cubs!!!!', 1), ('#Orioles', 1), ('#Cubs!!!!!!!!!!!!!!!!!!!!!!!!!!!!!!!!!!!!!!!!!!!!!!!!!!!!', 1), ('#bbqporkonrice', 1), ('#workhardeatharder', 1), ('#euro2016', 1), ('#thisislife', 1), ('#notourdog', 1), ('#dontbesohumblecuzyourenotthatgreat', 1), ('#getthebacon', 1), ('#iceland?', 1), ('#gospurs', 1), ('#familyselfie', 1), ('#whatareyoudoinglakers', 1)]\n"
     ]
    }
   ],
   "source": [
    "word_count(gethashtag)"
   ]
  },
  {
   "cell_type": "code",
   "execution_count": 10,
   "metadata": {
    "collapsed": false
   },
   "outputs": [
    {
     "data": {
      "text/plain": [
       "{'#BuzzCity': 1,\n",
       " '#BuzzCity!': 1,\n",
       " '#Cubs': 4,\n",
       " '#Cubs!': 2,\n",
       " '#Cubs!!!!': 1,\n",
       " '#Cubs!!!!!!!!!!!!!!!!!!!!!!!!!!!!!!!!!!!!!!!!!!!!!!!!!!!!': 1,\n",
       " '#CubsFamily': 1,\n",
       " '#ODSC': 1,\n",
       " '#Orioles': 1,\n",
       " '#SKOLVIKINGS': 3,\n",
       " '#amateurpost': 1,\n",
       " '#ballislife': 5,\n",
       " '#bbqporkonrice': 1,\n",
       " '#blackmamba': 1,\n",
       " '#casualfridays': 1,\n",
       " '#coldandalone': 1,\n",
       " '#dontbesohumblecuzyourenotthatgreat': 1,\n",
       " '#eevee': 1,\n",
       " '#euro2016': 1,\n",
       " '#facepalm': 1,\n",
       " '#familyselfie': 1,\n",
       " '#getthebacon': 1,\n",
       " '#gocubs': 1,\n",
       " '#gophers': 1,\n",
       " '#gospurs': 1,\n",
       " '#iceland?': 1,\n",
       " '#latepost': 1,\n",
       " '#marchmadness': 1,\n",
       " '#mostrandompostever': 1,\n",
       " '#notourdog': 1,\n",
       " '#olderadultlife': 1,\n",
       " '#panangcurry': 1,\n",
       " '#pitchervspitcher': 1,\n",
       " '#postdinnerjog': 1,\n",
       " '#skiumah': 1,\n",
       " '#startingfromthebottom': 1,\n",
       " '#stressedcubsfan': 1,\n",
       " '#thatallnighterlife': 1,\n",
       " '#the5thwheel': 1,\n",
       " '#thirstythursday': 1,\n",
       " '#thisislife': 1,\n",
       " '#whatareyoudoinglakers': 1,\n",
       " '#whenballislife': 1,\n",
       " '#wheresmyblanket': 1,\n",
       " '#workhardeatharder': 1}"
      ]
     },
     "execution_count": 10,
     "metadata": {},
     "output_type": "execute_result"
    }
   ],
   "source": [
    "my_string = gethashtag.split()\n",
    "my_dict = {}\n",
    "\n",
    "for item in my_string:\n",
    "    if item in my_dict:\n",
    "        my_dict[item] += 1\n",
    "    else:\n",
    "        my_dict[item] = 1\n",
    "#print(sorted(my_dict.items(), key=lambda x: x[1], reverse=True))\n",
    "\n",
    "my_dict"
   ]
  },
  {
   "cell_type": "code",
   "execution_count": 14,
   "metadata": {
    "collapsed": false
   },
   "outputs": [
    {
     "name": "stderr",
     "output_type": "stream",
     "text": [
      "/Users/dhong/anaconda/envs/py35/lib/python3.5/site-packages/ipykernel/__main__.py:2: FutureWarning: sort(columns=....) is deprecated, use sort_values(by=.....)\n",
      "  from ipykernel import kernelapp as app\n"
     ]
    },
    {
     "data": {
      "text/html": [
       "<div>\n",
       "<table border=\"1\" class=\"dataframe\">\n",
       "  <thead>\n",
       "    <tr style=\"text-align: right;\">\n",
       "      <th></th>\n",
       "      <th>hashtag</th>\n",
       "      <th>freq</th>\n",
       "    </tr>\n",
       "  </thead>\n",
       "  <tbody>\n",
       "    <tr>\n",
       "      <th>6</th>\n",
       "      <td>#ballislife</td>\n",
       "      <td>5</td>\n",
       "    </tr>\n",
       "    <tr>\n",
       "      <th>10</th>\n",
       "      <td>#Cubs</td>\n",
       "      <td>4</td>\n",
       "    </tr>\n",
       "    <tr>\n",
       "      <th>11</th>\n",
       "      <td>#SKOLVIKINGS</td>\n",
       "      <td>3</td>\n",
       "    </tr>\n",
       "    <tr>\n",
       "      <th>33</th>\n",
       "      <td>#Cubs!</td>\n",
       "      <td>2</td>\n",
       "    </tr>\n",
       "    <tr>\n",
       "      <th>0</th>\n",
       "      <td>#olderadultlife</td>\n",
       "      <td>1</td>\n",
       "    </tr>\n",
       "    <tr>\n",
       "      <th>34</th>\n",
       "      <td>#bbqporkonrice</td>\n",
       "      <td>1</td>\n",
       "    </tr>\n",
       "    <tr>\n",
       "      <th>26</th>\n",
       "      <td>#the5thwheel</td>\n",
       "      <td>1</td>\n",
       "    </tr>\n",
       "    <tr>\n",
       "      <th>27</th>\n",
       "      <td>#pitchervspitcher</td>\n",
       "      <td>1</td>\n",
       "    </tr>\n",
       "    <tr>\n",
       "      <th>28</th>\n",
       "      <td>#stressedcubsfan</td>\n",
       "      <td>1</td>\n",
       "    </tr>\n",
       "    <tr>\n",
       "      <th>29</th>\n",
       "      <td>#amateurpost</td>\n",
       "      <td>1</td>\n",
       "    </tr>\n",
       "    <tr>\n",
       "      <th>30</th>\n",
       "      <td>#Cubs!!!!</td>\n",
       "      <td>1</td>\n",
       "    </tr>\n",
       "    <tr>\n",
       "      <th>31</th>\n",
       "      <td>#Orioles</td>\n",
       "      <td>1</td>\n",
       "    </tr>\n",
       "    <tr>\n",
       "      <th>32</th>\n",
       "      <td>#Cubs!!!!!!!!!!!!!!!!!!!!!!!!!!!!!!!!!!!!!!!!!...</td>\n",
       "      <td>1</td>\n",
       "    </tr>\n",
       "    <tr>\n",
       "      <th>36</th>\n",
       "      <td>#euro2016</td>\n",
       "      <td>1</td>\n",
       "    </tr>\n",
       "    <tr>\n",
       "      <th>35</th>\n",
       "      <td>#workhardeatharder</td>\n",
       "      <td>1</td>\n",
       "    </tr>\n",
       "    <tr>\n",
       "      <th>24</th>\n",
       "      <td>#latepost</td>\n",
       "      <td>1</td>\n",
       "    </tr>\n",
       "    <tr>\n",
       "      <th>37</th>\n",
       "      <td>#thisislife</td>\n",
       "      <td>1</td>\n",
       "    </tr>\n",
       "    <tr>\n",
       "      <th>38</th>\n",
       "      <td>#notourdog</td>\n",
       "      <td>1</td>\n",
       "    </tr>\n",
       "    <tr>\n",
       "      <th>39</th>\n",
       "      <td>#dontbesohumblecuzyourenotthatgreat</td>\n",
       "      <td>1</td>\n",
       "    </tr>\n",
       "    <tr>\n",
       "      <th>40</th>\n",
       "      <td>#getthebacon</td>\n",
       "      <td>1</td>\n",
       "    </tr>\n",
       "    <tr>\n",
       "      <th>41</th>\n",
       "      <td>#iceland?</td>\n",
       "      <td>1</td>\n",
       "    </tr>\n",
       "    <tr>\n",
       "      <th>42</th>\n",
       "      <td>#gospurs</td>\n",
       "      <td>1</td>\n",
       "    </tr>\n",
       "    <tr>\n",
       "      <th>43</th>\n",
       "      <td>#familyselfie</td>\n",
       "      <td>1</td>\n",
       "    </tr>\n",
       "    <tr>\n",
       "      <th>25</th>\n",
       "      <td>#ODSC</td>\n",
       "      <td>1</td>\n",
       "    </tr>\n",
       "    <tr>\n",
       "      <th>22</th>\n",
       "      <td>#marchmadness</td>\n",
       "      <td>1</td>\n",
       "    </tr>\n",
       "    <tr>\n",
       "      <th>23</th>\n",
       "      <td>#panangcurry</td>\n",
       "      <td>1</td>\n",
       "    </tr>\n",
       "    <tr>\n",
       "      <th>1</th>\n",
       "      <td>#wheresmyblanket</td>\n",
       "      <td>1</td>\n",
       "    </tr>\n",
       "    <tr>\n",
       "      <th>2</th>\n",
       "      <td>#thirstythursday</td>\n",
       "      <td>1</td>\n",
       "    </tr>\n",
       "    <tr>\n",
       "      <th>3</th>\n",
       "      <td>#blackmamba</td>\n",
       "      <td>1</td>\n",
       "    </tr>\n",
       "    <tr>\n",
       "      <th>4</th>\n",
       "      <td>#skiumah</td>\n",
       "      <td>1</td>\n",
       "    </tr>\n",
       "    <tr>\n",
       "      <th>5</th>\n",
       "      <td>#postdinnerjog</td>\n",
       "      <td>1</td>\n",
       "    </tr>\n",
       "    <tr>\n",
       "      <th>7</th>\n",
       "      <td>#thatallnighterlife</td>\n",
       "      <td>1</td>\n",
       "    </tr>\n",
       "    <tr>\n",
       "      <th>8</th>\n",
       "      <td>#casualfridays</td>\n",
       "      <td>1</td>\n",
       "    </tr>\n",
       "    <tr>\n",
       "      <th>9</th>\n",
       "      <td>#eevee</td>\n",
       "      <td>1</td>\n",
       "    </tr>\n",
       "    <tr>\n",
       "      <th>12</th>\n",
       "      <td>#BuzzCity</td>\n",
       "      <td>1</td>\n",
       "    </tr>\n",
       "    <tr>\n",
       "      <th>13</th>\n",
       "      <td>#gocubs</td>\n",
       "      <td>1</td>\n",
       "    </tr>\n",
       "    <tr>\n",
       "      <th>14</th>\n",
       "      <td>#mostrandompostever</td>\n",
       "      <td>1</td>\n",
       "    </tr>\n",
       "    <tr>\n",
       "      <th>15</th>\n",
       "      <td>#whenballislife</td>\n",
       "      <td>1</td>\n",
       "    </tr>\n",
       "    <tr>\n",
       "      <th>16</th>\n",
       "      <td>#coldandalone</td>\n",
       "      <td>1</td>\n",
       "    </tr>\n",
       "    <tr>\n",
       "      <th>17</th>\n",
       "      <td>#CubsFamily</td>\n",
       "      <td>1</td>\n",
       "    </tr>\n",
       "    <tr>\n",
       "      <th>18</th>\n",
       "      <td>#gophers</td>\n",
       "      <td>1</td>\n",
       "    </tr>\n",
       "    <tr>\n",
       "      <th>19</th>\n",
       "      <td>#facepalm</td>\n",
       "      <td>1</td>\n",
       "    </tr>\n",
       "    <tr>\n",
       "      <th>20</th>\n",
       "      <td>#startingfromthebottom</td>\n",
       "      <td>1</td>\n",
       "    </tr>\n",
       "    <tr>\n",
       "      <th>21</th>\n",
       "      <td>#BuzzCity!</td>\n",
       "      <td>1</td>\n",
       "    </tr>\n",
       "    <tr>\n",
       "      <th>44</th>\n",
       "      <td>#whatareyoudoinglakers</td>\n",
       "      <td>1</td>\n",
       "    </tr>\n",
       "  </tbody>\n",
       "</table>\n",
       "</div>"
      ],
      "text/plain": [
       "                                              hashtag  freq\n",
       "6                                         #ballislife     5\n",
       "10                                              #Cubs     4\n",
       "11                                       #SKOLVIKINGS     3\n",
       "33                                             #Cubs!     2\n",
       "0                                     #olderadultlife     1\n",
       "34                                     #bbqporkonrice     1\n",
       "26                                       #the5thwheel     1\n",
       "27                                  #pitchervspitcher     1\n",
       "28                                   #stressedcubsfan     1\n",
       "29                                       #amateurpost     1\n",
       "30                                          #Cubs!!!!     1\n",
       "31                                           #Orioles     1\n",
       "32  #Cubs!!!!!!!!!!!!!!!!!!!!!!!!!!!!!!!!!!!!!!!!!...     1\n",
       "36                                          #euro2016     1\n",
       "35                                 #workhardeatharder     1\n",
       "24                                          #latepost     1\n",
       "37                                        #thisislife     1\n",
       "38                                         #notourdog     1\n",
       "39                #dontbesohumblecuzyourenotthatgreat     1\n",
       "40                                       #getthebacon     1\n",
       "41                                          #iceland?     1\n",
       "42                                           #gospurs     1\n",
       "43                                      #familyselfie     1\n",
       "25                                              #ODSC     1\n",
       "22                                      #marchmadness     1\n",
       "23                                       #panangcurry     1\n",
       "1                                    #wheresmyblanket     1\n",
       "2                                    #thirstythursday     1\n",
       "3                                         #blackmamba     1\n",
       "4                                            #skiumah     1\n",
       "5                                      #postdinnerjog     1\n",
       "7                                 #thatallnighterlife     1\n",
       "8                                      #casualfridays     1\n",
       "9                                              #eevee     1\n",
       "12                                          #BuzzCity     1\n",
       "13                                            #gocubs     1\n",
       "14                                #mostrandompostever     1\n",
       "15                                    #whenballislife     1\n",
       "16                                      #coldandalone     1\n",
       "17                                        #CubsFamily     1\n",
       "18                                           #gophers     1\n",
       "19                                          #facepalm     1\n",
       "20                             #startingfromthebottom     1\n",
       "21                                         #BuzzCity!     1\n",
       "44                             #whatareyoudoinglakers     1"
      ]
     },
     "execution_count": 14,
     "metadata": {},
     "output_type": "execute_result"
    }
   ],
   "source": [
    "df = pd.DataFrame(list(my_dict.items()), columns=['hashtag', 'freq'])\n",
    "df.sort(columns='freq', ascending=False)"
   ]
  },
  {
   "cell_type": "code",
   "execution_count": 15,
   "metadata": {
    "collapsed": false
   },
   "outputs": [],
   "source": [
    "#Set variables for MySQL database connection\n",
    "'''ts = time.time()\n",
    "getTodayDate = datetime.datetime.fromtimestamp(ts).strftime('%Y-%m-%d')'''\n",
    "\n",
    "file = open('/Users/dhong/Desktop/csv_files/pwd.txt','r')\n",
    "mysql_schema = 'Project_A'\n",
    "mysql_table = 'hashtags'\n",
    "pwd = file.read()\n",
    "ifexists_method = 'append'"
   ]
  },
  {
   "cell_type": "code",
   "execution_count": 18,
   "metadata": {
    "collapsed": false
   },
   "outputs": [
    {
     "name": "stderr",
     "output_type": "stream",
     "text": [
      "/Users/dhong/anaconda/lib/python3.5/site-packages/pandas/core/generic.py:1160: FutureWarning: The 'mysql' flavor with DBAPI connection is deprecated and will be removed in future versions. MySQL will be further supported with SQLAlchemy connectables.\n",
      "  chunksize=chunksize, dtype=dtype)\n"
     ]
    }
   ],
   "source": [
    "#Connect to MySQL database and insert dataframe into table\n",
    "db = pymysql.connect(\"localhost\", \"root\", pwd, mysql_schema)\n",
    "df.to_sql(con=db, name=mysql_table, index=False, if_exists=ifexists_method, flavor='mysql')"
   ]
  },
  {
   "cell_type": "code",
   "execution_count": null,
   "metadata": {
    "collapsed": true
   },
   "outputs": [],
   "source": []
  }
 ],
 "metadata": {
  "anaconda-cloud": {},
  "kernelspec": {
   "display_name": "Python [default]",
   "language": "python",
   "name": "python3"
  },
  "language_info": {
   "codemirror_mode": {
    "name": "ipython",
    "version": 3
   },
   "file_extension": ".py",
   "mimetype": "text/x-python",
   "name": "python",
   "nbconvert_exporter": "python",
   "pygments_lexer": "ipython3",
   "version": "3.5.2"
  }
 },
 "nbformat": 4,
 "nbformat_minor": 0
}
